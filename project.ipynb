{
 "cells": [
  {
   "cell_type": "code",
   "execution_count": 1,
   "metadata": {
    "colab": {
     "base_uri": "https://localhost:8080/"
    },
    "id": "TkQI2eq7UUFA",
    "outputId": "d93ed54c-bb57-4f7d-d088-91cf80e8bb73"
   },
   "outputs": [
    {
     "name": "stdout",
     "output_type": "stream",
     "text": [
      "Requirement already satisfied: pandas in c:\\users\\asus tuf\\anaconda3\\envs\\my_project\\lib\\site-packages (2.0.3)\n",
      "Requirement already satisfied: numpy in c:\\users\\asus tuf\\anaconda3\\envs\\my_project\\lib\\site-packages (1.24.1)\n",
      "Requirement already satisfied: scikit-learn in c:\\users\\asus tuf\\anaconda3\\envs\\my_project\\lib\\site-packages (1.3.2)\n",
      "Requirement already satisfied: tensorflow in c:\\users\\asus tuf\\anaconda3\\envs\\my_project\\lib\\site-packages (2.13.0)\n",
      "Requirement already satisfied: keras in c:\\users\\asus tuf\\anaconda3\\envs\\my_project\\lib\\site-packages (2.13.1)\n",
      "Requirement already satisfied: transformers in c:\\users\\asus tuf\\anaconda3\\envs\\my_project\\lib\\site-packages (4.46.3)\n",
      "Requirement already satisfied: matplotlib in c:\\users\\asus tuf\\anaconda3\\envs\\my_project\\lib\\site-packages (3.7.5)\n",
      "Requirement already satisfied: seaborn in c:\\users\\asus tuf\\anaconda3\\envs\\my_project\\lib\\site-packages (0.13.2)\n",
      "Requirement already satisfied: keras-tuner in c:\\users\\asus tuf\\anaconda3\\envs\\my_project\\lib\\site-packages (1.4.7)\n",
      "Requirement already satisfied: requests in c:\\users\\asus tuf\\anaconda3\\envs\\my_project\\lib\\site-packages (2.32.3)\n",
      "Requirement already satisfied: python-dateutil>=2.8.2 in c:\\users\\asus tuf\\anaconda3\\envs\\my_project\\lib\\site-packages (from pandas) (2.9.0.post0)\n",
      "Requirement already satisfied: pytz>=2020.1 in c:\\users\\asus tuf\\anaconda3\\envs\\my_project\\lib\\site-packages (from pandas) (2024.1)\n",
      "Requirement already satisfied: tzdata>=2022.1 in c:\\users\\asus tuf\\anaconda3\\envs\\my_project\\lib\\site-packages (from pandas) (2025.1)\n",
      "Requirement already satisfied: scipy>=1.5.0 in c:\\users\\asus tuf\\anaconda3\\envs\\my_project\\lib\\site-packages (from scikit-learn) (1.10.1)\n",
      "Requirement already satisfied: joblib>=1.1.1 in c:\\users\\asus tuf\\anaconda3\\envs\\my_project\\lib\\site-packages (from scikit-learn) (1.4.2)\n",
      "Requirement already satisfied: threadpoolctl>=2.0.0 in c:\\users\\asus tuf\\anaconda3\\envs\\my_project\\lib\\site-packages (from scikit-learn) (3.5.0)\n",
      "Requirement already satisfied: tensorflow-intel==2.13.0 in c:\\users\\asus tuf\\anaconda3\\envs\\my_project\\lib\\site-packages (from tensorflow) (2.13.0)\n",
      "Requirement already satisfied: absl-py>=1.0.0 in c:\\users\\asus tuf\\anaconda3\\envs\\my_project\\lib\\site-packages (from tensorflow-intel==2.13.0->tensorflow) (2.1.0)\n",
      "Requirement already satisfied: astunparse>=1.6.0 in c:\\users\\asus tuf\\anaconda3\\envs\\my_project\\lib\\site-packages (from tensorflow-intel==2.13.0->tensorflow) (1.6.3)\n",
      "Requirement already satisfied: flatbuffers>=23.1.21 in c:\\users\\asus tuf\\anaconda3\\envs\\my_project\\lib\\site-packages (from tensorflow-intel==2.13.0->tensorflow) (25.2.10)\n",
      "Requirement already satisfied: gast<=0.4.0,>=0.2.1 in c:\\users\\asus tuf\\anaconda3\\envs\\my_project\\lib\\site-packages (from tensorflow-intel==2.13.0->tensorflow) (0.4.0)\n",
      "Requirement already satisfied: google-pasta>=0.1.1 in c:\\users\\asus tuf\\anaconda3\\envs\\my_project\\lib\\site-packages (from tensorflow-intel==2.13.0->tensorflow) (0.2.0)\n",
      "Requirement already satisfied: h5py>=2.9.0 in c:\\users\\asus tuf\\anaconda3\\envs\\my_project\\lib\\site-packages (from tensorflow-intel==2.13.0->tensorflow) (3.11.0)\n",
      "Requirement already satisfied: libclang>=13.0.0 in c:\\users\\asus tuf\\anaconda3\\envs\\my_project\\lib\\site-packages (from tensorflow-intel==2.13.0->tensorflow) (18.1.1)\n",
      "Requirement already satisfied: opt-einsum>=2.3.2 in c:\\users\\asus tuf\\anaconda3\\envs\\my_project\\lib\\site-packages (from tensorflow-intel==2.13.0->tensorflow) (3.4.0)\n",
      "Requirement already satisfied: packaging in c:\\users\\asus tuf\\anaconda3\\envs\\my_project\\lib\\site-packages (from tensorflow-intel==2.13.0->tensorflow) (24.1)\n",
      "Requirement already satisfied: protobuf!=4.21.0,!=4.21.1,!=4.21.2,!=4.21.3,!=4.21.4,!=4.21.5,<5.0.0dev,>=3.20.3 in c:\\users\\asus tuf\\anaconda3\\envs\\my_project\\lib\\site-packages (from tensorflow-intel==2.13.0->tensorflow) (4.25.6)\n",
      "Requirement already satisfied: setuptools in c:\\users\\asus tuf\\anaconda3\\envs\\my_project\\lib\\site-packages (from tensorflow-intel==2.13.0->tensorflow) (75.1.0)\n",
      "Requirement already satisfied: six>=1.12.0 in c:\\users\\asus tuf\\anaconda3\\envs\\my_project\\lib\\site-packages (from tensorflow-intel==2.13.0->tensorflow) (1.16.0)\n",
      "Requirement already satisfied: termcolor>=1.1.0 in c:\\users\\asus tuf\\anaconda3\\envs\\my_project\\lib\\site-packages (from tensorflow-intel==2.13.0->tensorflow) (2.4.0)\n",
      "Collecting typing-extensions<4.6.0,>=3.6.6 (from tensorflow-intel==2.13.0->tensorflow)\n",
      "  Using cached typing_extensions-4.5.0-py3-none-any.whl.metadata (8.5 kB)\n",
      "Requirement already satisfied: wrapt>=1.11.0 in c:\\users\\asus tuf\\anaconda3\\envs\\my_project\\lib\\site-packages (from tensorflow-intel==2.13.0->tensorflow) (1.17.2)\n",
      "Requirement already satisfied: grpcio<2.0,>=1.24.3 in c:\\users\\asus tuf\\anaconda3\\envs\\my_project\\lib\\site-packages (from tensorflow-intel==2.13.0->tensorflow) (1.70.0)\n",
      "Requirement already satisfied: tensorboard<2.14,>=2.13 in c:\\users\\asus tuf\\anaconda3\\envs\\my_project\\lib\\site-packages (from tensorflow-intel==2.13.0->tensorflow) (2.13.0)\n",
      "Requirement already satisfied: tensorflow-estimator<2.14,>=2.13.0 in c:\\users\\asus tuf\\anaconda3\\envs\\my_project\\lib\\site-packages (from tensorflow-intel==2.13.0->tensorflow) (2.13.0)\n",
      "Requirement already satisfied: tensorflow-io-gcs-filesystem>=0.23.1 in c:\\users\\asus tuf\\anaconda3\\envs\\my_project\\lib\\site-packages (from tensorflow-intel==2.13.0->tensorflow) (0.31.0)\n",
      "Requirement already satisfied: filelock in c:\\users\\asus tuf\\anaconda3\\envs\\my_project\\lib\\site-packages (from transformers) (3.13.1)\n",
      "Requirement already satisfied: huggingface-hub<1.0,>=0.23.2 in c:\\users\\asus tuf\\anaconda3\\envs\\my_project\\lib\\site-packages (from transformers) (0.29.1)\n",
      "Requirement already satisfied: pyyaml>=5.1 in c:\\users\\asus tuf\\anaconda3\\envs\\my_project\\lib\\site-packages (from transformers) (6.0.2)\n",
      "Requirement already satisfied: regex!=2019.12.17 in c:\\users\\asus tuf\\anaconda3\\envs\\my_project\\lib\\site-packages (from transformers) (2024.11.6)\n",
      "Requirement already satisfied: tokenizers<0.21,>=0.20 in c:\\users\\asus tuf\\anaconda3\\envs\\my_project\\lib\\site-packages (from transformers) (0.20.3)\n",
      "Requirement already satisfied: safetensors>=0.4.1 in c:\\users\\asus tuf\\anaconda3\\envs\\my_project\\lib\\site-packages (from transformers) (0.5.2)\n",
      "Requirement already satisfied: tqdm>=4.27 in c:\\users\\asus tuf\\anaconda3\\envs\\my_project\\lib\\site-packages (from transformers) (4.67.1)\n",
      "Requirement already satisfied: contourpy>=1.0.1 in c:\\users\\asus tuf\\anaconda3\\envs\\my_project\\lib\\site-packages (from matplotlib) (1.1.1)\n",
      "Requirement already satisfied: cycler>=0.10 in c:\\users\\asus tuf\\anaconda3\\envs\\my_project\\lib\\site-packages (from matplotlib) (0.12.1)\n",
      "Requirement already satisfied: fonttools>=4.22.0 in c:\\users\\asus tuf\\anaconda3\\envs\\my_project\\lib\\site-packages (from matplotlib) (4.56.0)\n",
      "Requirement already satisfied: kiwisolver>=1.0.1 in c:\\users\\asus tuf\\anaconda3\\envs\\my_project\\lib\\site-packages (from matplotlib) (1.4.7)\n",
      "Requirement already satisfied: pillow>=6.2.0 in c:\\users\\asus tuf\\anaconda3\\envs\\my_project\\lib\\site-packages (from matplotlib) (10.2.0)\n",
      "Requirement already satisfied: pyparsing>=2.3.1 in c:\\users\\asus tuf\\anaconda3\\envs\\my_project\\lib\\site-packages (from matplotlib) (3.1.4)\n",
      "Requirement already satisfied: importlib-resources>=3.2.0 in c:\\users\\asus tuf\\anaconda3\\envs\\my_project\\lib\\site-packages (from matplotlib) (6.4.0)\n",
      "Requirement already satisfied: kt-legacy in c:\\users\\asus tuf\\anaconda3\\envs\\my_project\\lib\\site-packages (from keras-tuner) (1.0.5)\n",
      "Requirement already satisfied: charset-normalizer<4,>=2 in c:\\users\\asus tuf\\anaconda3\\envs\\my_project\\lib\\site-packages (from requests) (3.3.2)\n",
      "Requirement already satisfied: idna<4,>=2.5 in c:\\users\\asus tuf\\anaconda3\\envs\\my_project\\lib\\site-packages (from requests) (3.7)\n",
      "Requirement already satisfied: urllib3<3,>=1.21.1 in c:\\users\\asus tuf\\anaconda3\\envs\\my_project\\lib\\site-packages (from requests) (2.2.3)\n",
      "Requirement already satisfied: certifi>=2017.4.17 in c:\\users\\asus tuf\\anaconda3\\envs\\my_project\\lib\\site-packages (from requests) (2024.8.30)\n",
      "Requirement already satisfied: fsspec>=2023.5.0 in c:\\users\\asus tuf\\anaconda3\\envs\\my_project\\lib\\site-packages (from huggingface-hub<1.0,>=0.23.2->transformers) (2024.6.1)\n",
      "Requirement already satisfied: zipp>=3.1.0 in c:\\users\\asus tuf\\anaconda3\\envs\\my_project\\lib\\site-packages (from importlib-resources>=3.2.0->matplotlib) (3.20.2)\n",
      "Requirement already satisfied: colorama in c:\\users\\asus tuf\\anaconda3\\envs\\my_project\\lib\\site-packages (from tqdm>=4.27->transformers) (0.4.6)\n",
      "Requirement already satisfied: wheel<1.0,>=0.23.0 in c:\\users\\asus tuf\\anaconda3\\envs\\my_project\\lib\\site-packages (from astunparse>=1.6.0->tensorflow-intel==2.13.0->tensorflow) (0.44.0)\n",
      "Requirement already satisfied: google-auth<3,>=1.6.3 in c:\\users\\asus tuf\\anaconda3\\envs\\my_project\\lib\\site-packages (from tensorboard<2.14,>=2.13->tensorflow-intel==2.13.0->tensorflow) (2.38.0)\n",
      "Requirement already satisfied: google-auth-oauthlib<1.1,>=0.5 in c:\\users\\asus tuf\\anaconda3\\envs\\my_project\\lib\\site-packages (from tensorboard<2.14,>=2.13->tensorflow-intel==2.13.0->tensorflow) (1.0.0)\n",
      "Requirement already satisfied: markdown>=2.6.8 in c:\\users\\asus tuf\\anaconda3\\envs\\my_project\\lib\\site-packages (from tensorboard<2.14,>=2.13->tensorflow-intel==2.13.0->tensorflow) (3.7)\n",
      "Requirement already satisfied: tensorboard-data-server<0.8.0,>=0.7.0 in c:\\users\\asus tuf\\anaconda3\\envs\\my_project\\lib\\site-packages (from tensorboard<2.14,>=2.13->tensorflow-intel==2.13.0->tensorflow) (0.7.2)\n",
      "Requirement already satisfied: werkzeug>=1.0.1 in c:\\users\\asus tuf\\anaconda3\\envs\\my_project\\lib\\site-packages (from tensorboard<2.14,>=2.13->tensorflow-intel==2.13.0->tensorflow) (3.0.6)\n",
      "Requirement already satisfied: cachetools<6.0,>=2.0.0 in c:\\users\\asus tuf\\anaconda3\\envs\\my_project\\lib\\site-packages (from google-auth<3,>=1.6.3->tensorboard<2.14,>=2.13->tensorflow-intel==2.13.0->tensorflow) (5.5.2)\n",
      "Requirement already satisfied: pyasn1-modules>=0.2.1 in c:\\users\\asus tuf\\anaconda3\\envs\\my_project\\lib\\site-packages (from google-auth<3,>=1.6.3->tensorboard<2.14,>=2.13->tensorflow-intel==2.13.0->tensorflow) (0.4.1)\n",
      "Requirement already satisfied: rsa<5,>=3.1.4 in c:\\users\\asus tuf\\anaconda3\\envs\\my_project\\lib\\site-packages (from google-auth<3,>=1.6.3->tensorboard<2.14,>=2.13->tensorflow-intel==2.13.0->tensorflow) (4.9)\n",
      "Requirement already satisfied: requests-oauthlib>=0.7.0 in c:\\users\\asus tuf\\anaconda3\\envs\\my_project\\lib\\site-packages (from google-auth-oauthlib<1.1,>=0.5->tensorboard<2.14,>=2.13->tensorflow-intel==2.13.0->tensorflow) (2.0.0)\n",
      "Requirement already satisfied: importlib-metadata>=4.4 in c:\\users\\asus tuf\\anaconda3\\envs\\my_project\\lib\\site-packages (from markdown>=2.6.8->tensorboard<2.14,>=2.13->tensorflow-intel==2.13.0->tensorflow) (7.0.1)\n",
      "Requirement already satisfied: MarkupSafe>=2.1.1 in c:\\users\\asus tuf\\anaconda3\\envs\\my_project\\lib\\site-packages (from werkzeug>=1.0.1->tensorboard<2.14,>=2.13->tensorflow-intel==2.13.0->tensorflow) (2.1.3)\n",
      "Requirement already satisfied: pyasn1<0.7.0,>=0.4.6 in c:\\users\\asus tuf\\anaconda3\\envs\\my_project\\lib\\site-packages (from pyasn1-modules>=0.2.1->google-auth<3,>=1.6.3->tensorboard<2.14,>=2.13->tensorflow-intel==2.13.0->tensorflow) (0.6.1)\n",
      "Requirement already satisfied: oauthlib>=3.0.0 in c:\\users\\asus tuf\\anaconda3\\envs\\my_project\\lib\\site-packages (from requests-oauthlib>=0.7.0->google-auth-oauthlib<1.1,>=0.5->tensorboard<2.14,>=2.13->tensorflow-intel==2.13.0->tensorflow) (3.2.2)\n",
      "Using cached typing_extensions-4.5.0-py3-none-any.whl (27 kB)\n",
      "Installing collected packages: typing-extensions\n",
      "  Attempting uninstall: typing-extensions\n",
      "    Found existing installation: typing_extensions 4.12.2\n",
      "    Uninstalling typing_extensions-4.12.2:\n",
      "      Successfully uninstalled typing_extensions-4.12.2\n",
      "Successfully installed typing-extensions-4.5.0\n",
      "Note: you may need to restart the kernel to use updated packages.\n"
     ]
    },
    {
     "name": "stderr",
     "output_type": "stream",
     "text": [
      "ERROR: pip's dependency resolver does not currently take into account all the packages that are installed. This behaviour is the source of the following dependency conflicts.\n",
      "torch 2.4.1+cu121 requires typing-extensions>=4.8.0, but you have typing-extensions 4.5.0 which is incompatible.\n"
     ]
    }
   ],
   "source": [
    "pip install pandas numpy scikit-learn tensorflow keras transformers matplotlib seaborn keras-tuner requests"
   ]
  },
  {
   "cell_type": "markdown",
   "metadata": {
    "id": "m0zt2UkVW39-"
   },
   "source": [
    "Step 2: Dataset Preparation"
   ]
  },
  {
   "cell_type": "markdown",
   "metadata": {
    "id": "m4raPZ7fW7jk"
   },
   "source": [
    "Step 3: Preprocessing"
   ]
  },
  {
   "cell_type": "markdown",
   "metadata": {
    "id": "lsefx76WXJK1"
   },
   "source": [
    "Step 4: Model Design\n",
    "Model 1: LSTM with Pre-trained Embeddings"
   ]
  },
  {
   "cell_type": "code",
   "execution_count": 3,
   "metadata": {
    "id": "3QzE_v9thvDw"
   },
   "outputs": [],
   "source": [
    "import pandas as pd\n",
    "import numpy as np\n",
    "import re\n",
    "import torch\n",
    "import matplotlib.pyplot as plt\n",
    "import seaborn as sns\n",
    "import json\n",
    "from sklearn.model_selection import train_test_split\n",
    "from sklearn.metrics import (\n",
    "    precision_score, recall_score, f1_score,\n",
    "    confusion_matrix, classification_report\n",
    ")\n",
    "from torch.utils.data import Dataset, DataLoader\n",
    "from transformers import (\n",
    "    BertTokenizer, BertForSequenceClassification,\n",
    "    Trainer, TrainingArguments\n",
    ")\n",
    "\n",
    "# Set device\n",
    "device = torch.device(\"cuda\" if torch.cuda.is_available() else \"cpu\")"
   ]
  },
  {
   "cell_type": "code",
   "execution_count": 4,
   "metadata": {
    "id": "CGl0Y-j3t5W8"
   },
   "outputs": [],
   "source": [
    "def load_data():\n",
    "    train_df = pd.read_csv(\"train.csv\")\n",
    "    test_df = pd.read_csv(\"test.csv\")\n",
    "    test_labels = pd.read_csv(\"test_labels.csv\")\n",
    "\n",
    "    # Merge and filter test data\n",
    "    test_full = pd.merge(test_df, test_labels, on=\"id\")\n",
    "    mask = (test_full[[\"toxic\", \"severe_toxic\", \"obscene\", \"threat\", \"insult\", \"identity_hate\"]] != -1).any(axis=1)\n",
    "    scored_test = test_full[mask]\n",
    "\n",
    "    return train_df, scored_test\n",
    "\n",
    "def clean_text(text):\n",
    "    text = re.sub(r\"http\\S+|www\\S+|@\\w+|#\\w+|[^a-zA-Z\\s]\", \"\", str(text))\n",
    "    return text.lower().strip()\n",
    "\n",
    "# Process datasets\n",
    "train_df, test_df = load_data()\n",
    "train_df[\"cleaned_text\"] = train_df[\"comment_text\"].apply(clean_text)\n",
    "test_df[\"cleaned_text\"] = test_df[\"comment_text\"].apply(clean_text)\n",
    "\n",
    "# Split training data\n",
    "train_texts, val_texts, train_labels, val_labels = train_test_split(\n",
    "    train_df[\"cleaned_text\"],\n",
    "    train_df[[\"toxic\", \"severe_toxic\", \"obscene\", \"threat\", \"insult\", \"identity_hate\"]],\n",
    "    test_size=0.2,\n",
    "    random_state=42\n",
    ")\n"
   ]
  },
  {
   "cell_type": "code",
   "execution_count": 5,
   "metadata": {
    "id": "bEjLS74ZuAtv"
   },
   "outputs": [],
   "source": [
    "class ToxicityDataset(Dataset):\n",
    "    def __init__(self, texts, labels, tokenizer, max_len=128):\n",
    "        self.texts = texts.reset_index(drop=True)\n",
    "        self.labels = labels.reset_index(drop=True).values\n",
    "        self.tokenizer = tokenizer\n",
    "        self.max_len = max_len\n",
    "\n",
    "    def __len__(self): return len(self.texts)\n",
    "\n",
    "    def __getitem__(self, idx):\n",
    "        text = str(self.texts.iloc[idx])\n",
    "        encoding = self.tokenizer(\n",
    "            text, max_length=self.max_len,\n",
    "            padding=\"max_length\", truncation=True,\n",
    "            return_tensors=\"pt\"\n",
    "        )\n",
    "        return {\n",
    "            \"input_ids\": encoding[\"input_ids\"].flatten(),\n",
    "            \"attention_mask\": encoding[\"attention_mask\"].flatten(),\n",
    "            \"labels\": torch.tensor(self.labels[idx], dtype=torch.float)\n",
    "        }\n",
    "\n",
    "# Initialize tokenizer and datasets\n",
    "tokenizer = BertTokenizer.from_pretrained(\"bert-base-uncased\")\n",
    "train_dataset = ToxicityDataset(train_texts, train_labels, tokenizer)\n",
    "val_dataset = ToxicityDataset(val_texts, val_labels, tokenizer)\n",
    "test_dataset = ToxicityDataset(test_df[\"cleaned_text\"], test_df.iloc[:, 2:8], tokenizer)"
   ]
  },
  {
   "cell_type": "code",
   "execution_count": 6,
   "metadata": {
    "colab": {
     "base_uri": "https://localhost:8080/"
    },
    "id": "hXLyPTf1uLrm",
    "outputId": "405ca3e5-14c7-4e3d-ed87-2a19fb11375b"
   },
   "outputs": [
    {
     "name": "stderr",
     "output_type": "stream",
     "text": [
      "Some weights of BertForSequenceClassification were not initialized from the model checkpoint at bert-base-uncased and are newly initialized: ['classifier.bias', 'classifier.weight']\n",
      "You should probably TRAIN this model on a down-stream task to be able to use it for predictions and inference.\n"
     ]
    }
   ],
   "source": [
    "class BiLSTM(torch.nn.Module):\n",
    "    def __init__(self, vocab_size, embedding_dim=128, hidden_dim=64):\n",
    "        super().__init__()\n",
    "        self.embedding = torch.nn.Embedding(vocab_size, embedding_dim)\n",
    "        self.lstm = torch.nn.LSTM(embedding_dim, hidden_dim, bidirectional=True, batch_first=True)\n",
    "        self.dropout = torch.nn.Dropout(0.3)\n",
    "        self.fc = torch.nn.Linear(hidden_dim * 2, 6)\n",
    "\n",
    "    def forward(self, input_ids, attention_mask):\n",
    "        x = self.embedding(input_ids)\n",
    "        x, _ = self.lstm(x)\n",
    "        x = self.dropout(x[:, -1, :])\n",
    "        return self.fc(x)\n",
    "\n",
    "class GRUModel(torch.nn.Module):\n",
    "    def __init__(self, vocab_size, embedding_dim=200, hidden_dim=128):\n",
    "        super().__init__()\n",
    "        self.embedding = torch.nn.Embedding(vocab_size, embedding_dim)\n",
    "        self.gru = torch.nn.GRU(embedding_dim, hidden_dim, batch_first=True)\n",
    "        self.dropout = torch.nn.Dropout(0.3)\n",
    "        self.fc = torch.nn.Linear(hidden_dim, 6)\n",
    "\n",
    "    def forward(self, input_ids, attention_mask):\n",
    "        x = self.embedding(input_ids)\n",
    "        x, _ = self.gru(x)\n",
    "        x = self.dropout(x[:, -1, :])\n",
    "        return self.fc(x)\n",
    "\n",
    "# BERT Model\n",
    "bert_model = BertForSequenceClassification.from_pretrained(\n",
    "    \"bert-base-uncased\",\n",
    "    num_labels=6,\n",
    "    problem_type=\"multi_label_classification\"\n",
    ").to(device)"
   ]
  },
  {
   "cell_type": "code",
   "execution_count": 7,
   "metadata": {
    "id": "jD_s8mQRuUGf"
   },
   "outputs": [],
   "source": [
    "def train_model(model, train_loader, val_loader, optimizer, criterion, epochs=10, patience=3):\n",
    "    best_val_loss = float('inf')\n",
    "    train_losses, val_losses = [], []\n",
    "\n",
    "    for epoch in range(epochs):\n",
    "        # Training\n",
    "        model.train()\n",
    "        epoch_loss = 0\n",
    "        for batch in train_loader:\n",
    "            optimizer.zero_grad()\n",
    "            input_ids = batch[\"input_ids\"].to(device)\n",
    "            attention_mask = batch[\"attention_mask\"].to(device)\n",
    "            labels = batch[\"labels\"].to(device)\n",
    "            outputs = model(input_ids, attention_mask)\n",
    "            loss = criterion(outputs, labels)\n",
    "            loss.backward()\n",
    "            optimizer.step()\n",
    "            epoch_loss += loss.item()\n",
    "        train_loss = epoch_loss / len(train_loader)\n",
    "        train_losses.append(train_loss)\n",
    "\n",
    "        # Validation\n",
    "        model.eval()\n",
    "        val_loss = 0\n",
    "        with torch.no_grad():\n",
    "            for batch in val_loader:\n",
    "                input_ids = batch[\"input_ids\"].to(device)\n",
    "                attention_mask = batch[\"attention_mask\"].to(device)\n",
    "                labels = batch[\"labels\"].to(device)\n",
    "                outputs = model(input_ids, attention_mask)\n",
    "                val_loss += criterion(outputs, labels).item()\n",
    "        val_loss = val_loss / len(val_loader)\n",
    "        val_losses.append(val_loss)\n",
    "\n",
    "        # Early stopping\n",
    "        if val_loss < best_val_loss:\n",
    "            best_val_loss = val_loss\n",
    "            torch.save(model.state_dict(), \"best_model.pth\")\n",
    "            patience_counter = 0\n",
    "        else:\n",
    "            patience_counter += 1\n",
    "            if patience_counter >= patience:\n",
    "                print(f\"Early stopping at epoch {epoch+1}\")\n",
    "                break\n",
    "\n",
    "    return model, train_losses, val_losses\n"
   ]
  },
  {
   "cell_type": "code",
   "execution_count": 7,
   "metadata": {},
   "outputs": [
    {
     "name": "stdout",
     "output_type": "stream",
     "text": [
      "Requirement already satisfied: transformers[torch] in c:\\users\\asus tuf\\anaconda3\\envs\\my_project\\lib\\site-packages (4.46.3)\n",
      "Requirement already satisfied: filelock in c:\\users\\asus tuf\\anaconda3\\envs\\my_project\\lib\\site-packages (from transformers[torch]) (3.13.1)\n",
      "Requirement already satisfied: huggingface-hub<1.0,>=0.23.2 in c:\\users\\asus tuf\\anaconda3\\envs\\my_project\\lib\\site-packages (from transformers[torch]) (0.29.1)\n",
      "Requirement already satisfied: numpy>=1.17 in c:\\users\\asus tuf\\anaconda3\\envs\\my_project\\lib\\site-packages (from transformers[torch]) (1.24.1)\n",
      "Requirement already satisfied: packaging>=20.0 in c:\\users\\asus tuf\\anaconda3\\envs\\my_project\\lib\\site-packages (from transformers[torch]) (24.1)\n",
      "Requirement already satisfied: pyyaml>=5.1 in c:\\users\\asus tuf\\anaconda3\\envs\\my_project\\lib\\site-packages (from transformers[torch]) (6.0.2)\n",
      "Requirement already satisfied: regex!=2019.12.17 in c:\\users\\asus tuf\\anaconda3\\envs\\my_project\\lib\\site-packages (from transformers[torch]) (2024.11.6)\n",
      "Requirement already satisfied: requests in c:\\users\\asus tuf\\anaconda3\\envs\\my_project\\lib\\site-packages (from transformers[torch]) (2.32.3)\n",
      "Requirement already satisfied: tokenizers<0.21,>=0.20 in c:\\users\\asus tuf\\anaconda3\\envs\\my_project\\lib\\site-packages (from transformers[torch]) (0.20.3)\n",
      "Requirement already satisfied: safetensors>=0.4.1 in c:\\users\\asus tuf\\anaconda3\\envs\\my_project\\lib\\site-packages (from transformers[torch]) (0.5.2)\n",
      "Requirement already satisfied: tqdm>=4.27 in c:\\users\\asus tuf\\anaconda3\\envs\\my_project\\lib\\site-packages (from transformers[torch]) (4.67.1)\n",
      "Requirement already satisfied: torch in c:\\users\\asus tuf\\anaconda3\\envs\\my_project\\lib\\site-packages (from transformers[torch]) (2.4.1+cu121)\n",
      "Requirement already satisfied: accelerate>=0.26.0 in c:\\users\\asus tuf\\anaconda3\\envs\\my_project\\lib\\site-packages (from transformers[torch]) (1.0.1)\n",
      "Requirement already satisfied: psutil in c:\\users\\asus tuf\\anaconda3\\envs\\my_project\\lib\\site-packages (from accelerate>=0.26.0->transformers[torch]) (5.9.0)\n",
      "Requirement already satisfied: fsspec>=2023.5.0 in c:\\users\\asus tuf\\anaconda3\\envs\\my_project\\lib\\site-packages (from huggingface-hub<1.0,>=0.23.2->transformers[torch]) (2024.6.1)\n",
      "Requirement already satisfied: typing-extensions>=3.7.4.3 in c:\\users\\asus tuf\\anaconda3\\envs\\my_project\\lib\\site-packages (from huggingface-hub<1.0,>=0.23.2->transformers[torch]) (4.5.0)\n",
      "Collecting typing-extensions>=3.7.4.3 (from huggingface-hub<1.0,>=0.23.2->transformers[torch])\n",
      "  Using cached typing_extensions-4.12.2-py3-none-any.whl.metadata (3.0 kB)\n",
      "Requirement already satisfied: sympy in c:\\users\\asus tuf\\anaconda3\\envs\\my_project\\lib\\site-packages (from torch->transformers[torch]) (1.13.1)\n",
      "Requirement already satisfied: networkx in c:\\users\\asus tuf\\anaconda3\\envs\\my_project\\lib\\site-packages (from torch->transformers[torch]) (3.0)\n",
      "Requirement already satisfied: jinja2 in c:\\users\\asus tuf\\anaconda3\\envs\\my_project\\lib\\site-packages (from torch->transformers[torch]) (3.1.4)\n",
      "Requirement already satisfied: colorama in c:\\users\\asus tuf\\anaconda3\\envs\\my_project\\lib\\site-packages (from tqdm>=4.27->transformers[torch]) (0.4.6)\n",
      "Requirement already satisfied: charset-normalizer<4,>=2 in c:\\users\\asus tuf\\anaconda3\\envs\\my_project\\lib\\site-packages (from requests->transformers[torch]) (3.3.2)\n",
      "Requirement already satisfied: idna<4,>=2.5 in c:\\users\\asus tuf\\anaconda3\\envs\\my_project\\lib\\site-packages (from requests->transformers[torch]) (3.7)\n",
      "Requirement already satisfied: urllib3<3,>=1.21.1 in c:\\users\\asus tuf\\anaconda3\\envs\\my_project\\lib\\site-packages (from requests->transformers[torch]) (2.2.3)\n",
      "Requirement already satisfied: certifi>=2017.4.17 in c:\\users\\asus tuf\\anaconda3\\envs\\my_project\\lib\\site-packages (from requests->transformers[torch]) (2024.8.30)\n",
      "Requirement already satisfied: MarkupSafe>=2.0 in c:\\users\\asus tuf\\anaconda3\\envs\\my_project\\lib\\site-packages (from jinja2->torch->transformers[torch]) (2.1.3)\n",
      "Requirement already satisfied: mpmath<1.4,>=1.1.0 in c:\\users\\asus tuf\\anaconda3\\envs\\my_project\\lib\\site-packages (from sympy->torch->transformers[torch]) (1.3.0)\n",
      "Using cached typing_extensions-4.12.2-py3-none-any.whl (37 kB)\n",
      "Installing collected packages: typing-extensions\n",
      "  Attempting uninstall: typing-extensions\n",
      "    Found existing installation: typing_extensions 4.5.0\n",
      "    Uninstalling typing_extensions-4.5.0:\n",
      "      Successfully uninstalled typing_extensions-4.5.0\n",
      "Successfully installed typing-extensions-4.12.2\n",
      "Note: you may need to restart the kernel to use updated packages.\n"
     ]
    },
    {
     "name": "stderr",
     "output_type": "stream",
     "text": [
      "ERROR: pip's dependency resolver does not currently take into account all the packages that are installed. This behaviour is the source of the following dependency conflicts.\n",
      "tensorflow-intel 2.13.0 requires typing-extensions<4.6.0,>=3.6.6, but you have typing-extensions 4.12.2 which is incompatible.\n"
     ]
    }
   ],
   "source": [
    "pip install transformers[torch]"
   ]
  },
  {
   "cell_type": "code",
   "execution_count": null,
   "metadata": {},
   "outputs": [],
   "source": [
    "# Common parameters\n",
    "train_loader = DataLoader(train_dataset, batch_size=64, shuffle=True, num_workers=4, pin_memory=True)\n",
    "val_loader = DataLoader(val_dataset, batch_size=64, shuffle=True, num_workers=4, pin_memory=True)\n",
    "criterion = torch.nn.BCEWithLogitsLoss()\n",
    "\n",
    "# Train BiLSTM\n",
    "bilstm = BiLSTM(tokenizer.vocab_size).to(device)\n",
    "bilstm_optimizer = torch.optim.AdamW(bilstm.parameters(), lr=1e-3, weight_decay=1e-4)\n",
    "bilstm, bilstm_train_loss, bilstm_val_loss = train_model(\n",
    "    bilstm, train_loader, val_loader, bilstm_optimizer, criterion\n",
    ")"
   ]
  },
  {
   "cell_type": "code",
   "execution_count": 7,
   "metadata": {},
   "outputs": [
    {
     "name": "stdout",
     "output_type": "stream",
     "text": [
      "Early stopping at epoch 6\n"
     ]
    }
   ],
   "source": [
    "# Train GRU\n",
    "gru = GRUModel(tokenizer.vocab_size).to(device)\n",
    "gru_optimizer = torch.optim.AdamW(gru.parameters(), lr=1e-3)\n",
    "gru, gru_train_loss, gru_val_loss = train_model(\n",
    "    gru, train_loader, val_loader, gru_optimizer, criterion\n",
    ")"
   ]
  },
  {
   "cell_type": "code",
   "execution_count": 8,
   "metadata": {},
   "outputs": [
    {
     "name": "stderr",
     "output_type": "stream",
     "text": [
      "/home/javokhir/miniconda3/envs/parkour/lib/python3.8/site-packages/transformers/training_args.py:1568: FutureWarning: `evaluation_strategy` is deprecated and will be removed in version 4.46 of 🤗 Transformers. Use `eval_strategy` instead\n",
      "  warnings.warn(\n",
      "\u001b[34m\u001b[1mwandb\u001b[0m: \u001b[33mWARNING\u001b[0m The `run_name` is currently set to the same value as `TrainingArguments.output_dir`. If this was not intended, please specify a different run name by setting the `TrainingArguments.run_name` parameter.\n",
      "\u001b[34m\u001b[1mwandb\u001b[0m: Currently logged in as: \u001b[33mfounderoffounders\u001b[0m. Use \u001b[1m`wandb login --relogin`\u001b[0m to force relogin\n"
     ]
    },
    {
     "data": {
      "application/vnd.jupyter.widget-view+json": {
       "model_id": "2da078b124c74c7a89dbd6330c353542",
       "version_major": 2,
       "version_minor": 0
      },
      "text/plain": [
       "VBox(children=(Label(value='Waiting for wandb.init()...\\r'), FloatProgress(value=0.011112381677634807, max=1.0…"
      ]
     },
     "metadata": {},
     "output_type": "display_data"
    },
    {
     "data": {
      "text/html": [
       "wandb version 0.19.5 is available!  To upgrade, please run:\n",
       " $ pip install wandb --upgrade"
      ],
      "text/plain": [
       "<IPython.core.display.HTML object>"
      ]
     },
     "metadata": {},
     "output_type": "display_data"
    },
    {
     "data": {
      "text/html": [
       "Tracking run with wandb version 0.16.4"
      ],
      "text/plain": [
       "<IPython.core.display.HTML object>"
      ]
     },
     "metadata": {},
     "output_type": "display_data"
    },
    {
     "data": {
      "text/html": [
       "Run data is saved locally in <code>/home/javokhir/Desktop/anvars/wandb/run-20250130_172817-sbpqitkv</code>"
      ],
      "text/plain": [
       "<IPython.core.display.HTML object>"
      ]
     },
     "metadata": {},
     "output_type": "display_data"
    },
    {
     "data": {
      "text/html": [
       "Syncing run <strong><a href='https://wandb.ai/founderoffounders/huggingface/runs/sbpqitkv' target=\"_blank\">./results</a></strong> to <a href='https://wandb.ai/founderoffounders/huggingface' target=\"_blank\">Weights & Biases</a> (<a href='https://wandb.me/run' target=\"_blank\">docs</a>)<br/>"
      ],
      "text/plain": [
       "<IPython.core.display.HTML object>"
      ]
     },
     "metadata": {},
     "output_type": "display_data"
    },
    {
     "data": {
      "text/html": [
       " View project at <a href='https://wandb.ai/founderoffounders/huggingface' target=\"_blank\">https://wandb.ai/founderoffounders/huggingface</a>"
      ],
      "text/plain": [
       "<IPython.core.display.HTML object>"
      ]
     },
     "metadata": {},
     "output_type": "display_data"
    },
    {
     "data": {
      "text/html": [
       " View run at <a href='https://wandb.ai/founderoffounders/huggingface/runs/sbpqitkv' target=\"_blank\">https://wandb.ai/founderoffounders/huggingface/runs/sbpqitkv</a>"
      ],
      "text/plain": [
       "<IPython.core.display.HTML object>"
      ]
     },
     "metadata": {},
     "output_type": "display_data"
    },
    {
     "data": {
      "text/html": [
       "\n",
       "    <div>\n",
       "      \n",
       "      <progress value='5985' max='5985' style='width:300px; height:20px; vertical-align: middle;'></progress>\n",
       "      [5985/5985 26:08, Epoch 3/3]\n",
       "    </div>\n",
       "    <table border=\"1\" class=\"dataframe\">\n",
       "  <thead>\n",
       " <tr style=\"text-align: left;\">\n",
       "      <th>Epoch</th>\n",
       "      <th>Training Loss</th>\n",
       "      <th>Validation Loss</th>\n",
       "    </tr>\n",
       "  </thead>\n",
       "  <tbody>\n",
       "    <tr>\n",
       "      <td>1</td>\n",
       "      <td>0.042600</td>\n",
       "      <td>0.040201</td>\n",
       "    </tr>\n",
       "    <tr>\n",
       "      <td>2</td>\n",
       "      <td>0.034100</td>\n",
       "      <td>0.037550</td>\n",
       "    </tr>\n",
       "    <tr>\n",
       "      <td>3</td>\n",
       "      <td>0.026600</td>\n",
       "      <td>0.039049</td>\n",
       "    </tr>\n",
       "  </tbody>\n",
       "</table><p>"
      ],
      "text/plain": [
       "<IPython.core.display.HTML object>"
      ]
     },
     "metadata": {},
     "output_type": "display_data"
    },
    {
     "data": {
      "text/plain": [
       "TrainOutput(global_step=5985, training_loss=0.038386058409012845, metrics={'train_runtime': 1577.9864, 'train_samples_per_second': 242.694, 'train_steps_per_second': 3.793, 'total_flos': 2.5191683373625344e+16, 'train_loss': 0.038386058409012845, 'epoch': 3.0})"
      ]
     },
     "execution_count": 8,
     "metadata": {},
     "output_type": "execute_result"
    }
   ],
   "source": [
    "# Train BERT\n",
    "training_args = TrainingArguments(\n",
    "    output_dir=\"./results\",\n",
    "    num_train_epochs=3,\n",
    "    per_device_train_batch_size=64,\n",
    "    evaluation_strategy=\"epoch\",\n",
    "    learning_rate=2e-5,\n",
    "    weight_decay=0.01,\n",
    ")\n",
    "trainer = Trainer(\n",
    "    model=bert_model,\n",
    "    args=training_args,\n",
    "    train_dataset=train_dataset,\n",
    "    eval_dataset=val_dataset,\n",
    ")\n",
    "trainer.train()"
   ]
  },
  {
   "cell_type": "code",
   "execution_count": 16,
   "metadata": {
    "id": "ArgxNX5rvkQm"
   },
   "outputs": [
    {
     "name": "stderr",
     "output_type": "stream",
     "text": [
      "/home/javokhir/miniconda3/envs/parkour/lib/python3.8/site-packages/sklearn/metrics/_classification.py:1471: UndefinedMetricWarning: Precision is ill-defined and being set to 0.0 in labels with no predicted samples. Use `zero_division` parameter to control this behavior.\n",
      "  _warn_prf(average, modifier, msg_start, len(result))\n"
     ]
    },
    {
     "name": "stdout",
     "output_type": "stream",
     "text": [
      "BiLSTM Results: {'toxic': {'precision': 0.7492213287171239, 'recall': 0.8868232217402314, 'f1': 0.7957798362557318}, 'severe_toxic': {'precision': 0.734252201973746, 'recall': 0.5487319104963466, 'f1': 0.5798093547191816}, 'obscene': {'precision': 0.8054120702697762, 'recall': 0.8637310148673519, 'f1': 0.8315362800222864}, 'threat': {'precision': 0.4983509956547563, 'recall': 0.5, 'f1': 0.4991741359740108}, 'insult': {'precision': 0.7875795038136046, 'recall': 0.8001319316048294, 'f1': 0.7936980114106615}, 'identity_hate': {'precision': 0.49443515232988916, 'recall': 0.4999604843043657, 'f1': 0.4971824676396388}, 'macro_avg': {'precision': 0.6782085421264826, 'recall': 0.6832297605021876, 'f1': 0.6661966810035852}}\n",
      "GRU Results: {'toxic': {'precision': 0.7708821472672851, 'recall': 0.8697058801504247, 'f1': 0.8093519281232718}, 'severe_toxic': {'precision': 0.6953761106119597, 'recall': 0.7011972720602494, 'f1': 0.6982430764635135}, 'obscene': {'precision': 0.8147930140693009, 'recall': 0.855572709671763, 'f1': 0.8337100953069565}, 'threat': {'precision': 0.7648922338442423, 'recall': 0.6772076094270039, 'f1': 0.7122766705802897}, 'insult': {'precision': 0.8247046339928115, 'recall': 0.8141352453136123, 'f1': 0.8193185345268472}, 'identity_hate': {'precision': 0.8886075847719928, 'recall': 0.6708188042852419, 'f1': 0.7364067630016926}, 'macro_avg': {'precision': 0.7932092874262655, 'recall': 0.7647729201513825, 'f1': 0.7682178446670953}}\n",
      "BERT Results: {'toxic': {'precision': 0.7561471753472083, 'recall': 0.9153178500627677, 'f1': 0.8074371303152088}, 'severe_toxic': {'precision': 0.669855085569358, 'recall': 0.7748479272238702, 'f1': 0.7096528464185715}, 'obscene': {'precision': 0.8032902564429061, 'recall': 0.8921951953501637, 'f1': 0.8409187907757336}, 'threat': {'precision': 0.7557760967770399, 'recall': 0.8354343497435159, 'f1': 0.7901834057226578}, 'insult': {'precision': 0.8139949828875613, 'recall': 0.8745190511123564, 'f1': 0.8411321987000573}, 'identity_hate': {'precision': 0.8043028350580641, 'recall': 0.8165520237896919, 'f1': 0.8103028864348698}, 'macro_avg': {'precision': 0.7672277386803562, 'recall': 0.8514777328803943, 'f1': 0.7999378763945164}}\n"
     ]
    }
   ],
   "source": [
    "def evaluate_model(model, test_loader, device):\n",
    "    model.eval()\n",
    "    all_preds = []\n",
    "    all_labels = []\n",
    "\n",
    "    with torch.no_grad():\n",
    "        for batch in test_loader:\n",
    "            input_ids = batch[\"input_ids\"].to(device)\n",
    "            attention_mask = batch[\"attention_mask\"].to(device)\n",
    "            labels = batch[\"labels\"].cpu().numpy()\n",
    "\n",
    "            # Forward pass to get outputs\n",
    "            outputs = model(input_ids, attention_mask=attention_mask)\n",
    "            \n",
    "            if hasattr(outputs, 'logits'):\n",
    "                # For transformer models like BERT, GPT, etc.\n",
    "                logits = outputs.logits  # Extract logits from the SequenceClassifierOutput\n",
    "            else:\n",
    "                # For models like BiLSTM, GRU that return raw logits directly\n",
    "                logits = outputs\n",
    "\n",
    "            # Apply sigmoid to logits for binary classification\n",
    "            logits = torch.sigmoid(logits).cpu().numpy()\n",
    "\n",
    "            preds = (logits > 0.5).astype(int)\n",
    "            all_preds.extend(preds)\n",
    "            all_labels.extend(labels)\n",
    "\n",
    "    # Convert lists to NumPy arrays\n",
    "    all_preds = np.array(all_preds)\n",
    "    all_labels = np.array(all_labels)\n",
    "\n",
    "    results = {}\n",
    "    for i, col in enumerate([\"toxic\", \"severe_toxic\", \"obscene\", \"threat\", \"insult\", \"identity_hate\"]):\n",
    "        results[col] = {\n",
    "            \"precision\": precision_score(all_labels[:, i], all_preds[:, i], average=\"macro\"),\n",
    "            \"recall\": recall_score(all_labels[:, i], all_preds[:, i], average=\"macro\"),\n",
    "            \"f1\": f1_score(all_labels[:, i], all_preds[:, i], average=\"macro\")\n",
    "        }\n",
    "\n",
    "    results[\"macro_avg\"] = {\n",
    "        \"precision\": np.mean([v[\"precision\"] for v in results.values()]),\n",
    "        \"recall\": np.mean([v[\"recall\"] for v in results.values()]),\n",
    "        \"f1\": np.mean([v[\"f1\"] for v in results.values()])\n",
    "    }\n",
    "\n",
    "    return results\n",
    "\n",
    "# Evaluate all models\n",
    "test_loader = DataLoader(test_dataset, batch_size=16)\n",
    "print(\"BiLSTM Results:\", evaluate_model(bilstm, test_loader, device))\n",
    "print(\"GRU Results:\", evaluate_model(gru, test_loader, device))\n",
    "print(\"BERT Results:\", evaluate_model(bert_model, test_loader, device))"
   ]
  },
  {
   "cell_type": "code",
   "execution_count": 17,
   "metadata": {
    "id": "fj9JChctGb3Y"
   },
   "outputs": [],
   "source": [
    "def generate_iiif_annotations(df, num_samples=10):\n",
    "    annotations = []\n",
    "    for _, row in df.sample(num_samples).iterrows():\n",
    "        annotation = {\n",
    "            \"@context\": \"http://iiif.io/api/presentation/3/context.json\",\n",
    "            \"id\": f\"https://example.org/annotation/{row['id']}\",\n",
    "            \"type\": \"Annotation\",\n",
    "            \"motivation\": \"classifying\",\n",
    "            \"body\": {\n",
    "                \"type\": \"TextualBody\",\n",
    "                \"value\": str(row[[\"toxic\", \"severe_toxic\", \"obscene\", \"threat\", \"insult\", \"identity_hate\"]].to_dict()),\n",
    "                \"format\": \"text/plain\"\n",
    "            },\n",
    "            \"target\": {\n",
    "                \"source\": f\"https://example.org/wiki_comments/{row['id']}.jpg\",\n",
    "                \"selector\": {\"type\": \"FragmentSelector\", \"value\": \"xywh=0,0,500,500\"}\n",
    "            }\n",
    "        }\n",
    "        annotations.append(annotation)\n",
    "    return annotations\n",
    "\n",
    "with open(\"iiif_annotations.json\", \"w\") as f:\n",
    "    json.dump(generate_iiif_annotations(test_df), f)"
   ]
  },
  {
   "cell_type": "code",
   "execution_count": 19,
   "metadata": {
    "id": "CHGTht2WGjak"
   },
   "outputs": [
    {
     "name": "stdout",
     "output_type": "stream",
     "text": [
      "BERT Error Examples: [{'text': 'arabs are committing genocide in iraq but no protests in europe  \\n\\n may europe also burn in hell', 'true': array([1., 0., 0., 0., 0., 0.], dtype=float32), 'pred': array([1, 0, 0, 0, 0, 1])}, {'text': 'cut it short if you have sources stating the rok is sovereign post them otherwise please aknowledge wp is not the place to make or', 'true': array([0., 0., 0., 0., 0., 0.], dtype=float32), 'pred': array([1, 0, 0, 1, 0, 0])}, {'text': 'if ollie or others think that one list of the oldest people we know about is too long the easy answer is to raise the cutoff age  is purely a round number and a full  years shorter then the record we can make it the top  or top  or everyone above   tell us what the maximum list size is and we can set a threshold', 'true': array([1., 0., 1., 0., 1., 0.], dtype=float32), 'pred': array([1, 1, 1, 0, 1, 1])}, {'text': 'arabs are committing genocide in iraq but no protests in europe  \\n\\n may europe also burn in hell', 'true': array([1., 0., 1., 0., 1., 0.], dtype=float32), 'pred': array([1, 0, 0, 0, 1, 0])}, {'text': 'jews are not a race because you can only get it from your mother your own mention of ethiopian jews not testing \\n           as jews proves it is not as well as the fact that we accept converts', 'true': array([0., 0., 0., 0., 0., 0.], dtype=float32), 'pred': array([1, 0, 0, 0, 0, 0])}, {'text': 'jews are not a race because you can only get it from your mother your own mention of ethiopian jews not testing \\n           as jews proves it is not as well as the fact that we accept converts', 'true': array([0., 0., 0., 0., 0., 0.], dtype=float32), 'pred': array([1, 0, 0, 0, 0, 0])}, {'text': 'professors to the manhatten project', 'true': array([0., 0., 0., 0., 0., 0.], dtype=float32), 'pred': array([1, 0, 0, 0, 0, 0])}, {'text': 'not sure whether this is notable enough to be mentioned in the article but youre right  versions later than   can open files created by all previous versions but save files only in its own format with a suffix of msx where x is the version number       this is intentional of course besides all versions but  save files in a compressed format', 'true': array([0., 0., 0., 0., 0., 0.], dtype=float32), 'pred': array([1, 0, 1, 0, 0, 0])}, {'text': 'blocked from editing wikipedia', 'true': array([0., 0., 0., 0., 0., 0.], dtype=float32), 'pred': array([1, 0, 0, 0, 1, 0])}, {'text': 'please stop if you continue to vandalize wikipedia as you did to homosexuality you will be blocked from editing', 'true': array([1., 0., 0., 0., 0., 0.], dtype=float32), 'pred': array([1, 0, 1, 0, 0, 0])}]\n"
     ]
    }
   ],
   "source": [
    "def analyze_errors(model, test_loader, device):\n",
    "    model.eval()\n",
    "    errors = []\n",
    "    with torch.no_grad():\n",
    "        for batch in test_loader:\n",
    "            input_ids = batch[\"input_ids\"].to(device)\n",
    "            attention_mask = batch[\"attention_mask\"].to(device)\n",
    "            labels = batch[\"labels\"].cpu().numpy()\n",
    "            \n",
    "            # Forward pass to get outputs\n",
    "            outputs = model(input_ids, attention_mask=attention_mask)\n",
    "            \n",
    "            # Extract logits from the SequenceClassifierOutput\n",
    "            if hasattr(outputs, 'logits'):\n",
    "                logits = outputs.logits\n",
    "            else:\n",
    "                logits = outputs\n",
    "            \n",
    "            # Apply sigmoid to logits for binary classification\n",
    "            outputs = torch.sigmoid(logits).cpu().numpy()\n",
    "            preds = (outputs > 0.5).astype(int)\n",
    "\n",
    "            for i in range(len(preds)):\n",
    "                if not np.array_equal(preds[i], labels[i]):\n",
    "                    errors.append({\n",
    "                        \"text\": test_df[\"cleaned_text\"].iloc[i],\n",
    "                        \"true\": labels[i],\n",
    "                        \"pred\": preds[i]\n",
    "                    })\n",
    "    return errors[:10]  # Return first 10 errors\n",
    "\n",
    "print(\"BERT Error Examples:\", analyze_errors(bert_model, test_loader, device))"
   ]
  },
  {
   "cell_type": "code",
   "execution_count": 20,
   "metadata": {
    "id": "DmsUR4--GoTF"
   },
   "outputs": [
    {
     "data": {
      "image/png": "[encoded data removed]",
      "text/plain": [
       "<Figure size 1000x500 with 1 Axes>"
      ]
     },
     "metadata": {},
     "output_type": "display_data"
    },
    {
     "data": {
      "image/png": "[encoded data removed]",
      "text/plain": [
       "<Figure size 1000x500 with 1 Axes>"
      ]
     },
     "metadata": {},
     "output_type": "display_data"
    }
   ],
   "source": [
    "# [10] Visualization\n",
    "def plot_metrics(model_name, train_loss, val_loss):\n",
    "    plt.figure(figsize=(10, 5))\n",
    "    plt.plot(train_loss, label=f\"{model_name} Training Loss\")\n",
    "    plt.plot(val_loss, label=f\"{model_name} Validation Loss\")\n",
    "    plt.xlabel(\"Epochs\")\n",
    "    plt.ylabel(\"Loss\")\n",
    "    plt.legend()\n",
    "    plt.show()\n",
    "\n",
    "plot_metrics(\"BiLSTM\", bilstm_train_loss, bilstm_val_loss)\n",
    "plot_metrics(\"GRU\", gru_train_loss, gru_val_loss)"
   ]
  },
  {
   "cell_type": "code",
   "execution_count": null,
   "metadata": {},
   "outputs": [],
   "source": []
  }
 ],
 "metadata": {
  "colab": {
   "provenance": []
  },
  "kernelspec": {
   "display_name": "Python 3 (ipykernel)",
   "language": "python",
   "name": "python3"
  },
  "language_info": {
   "codemirror_mode": {
    "name": "ipython",
    "version": 3
   },
   "file_extension": ".py",
   "mimetype": "text/x-python",
   "name": "python",
   "nbconvert_exporter": "python",
   "pygments_lexer": "ipython3",
   "version": "3.8.20"
  }
 },
 "nbformat": 4,
 "nbformat_minor": 4
}
